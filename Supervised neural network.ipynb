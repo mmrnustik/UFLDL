{
 "cells": [
  {
   "cell_type": "code",
   "execution_count": 1,
   "metadata": {
    "collapsed": false
   },
   "outputs": [
    {
     "name": "stdout",
     "output_type": "stream",
     "text": [
      "Populating the interactive namespace from numpy and matplotlib\n"
     ]
    }
   ],
   "source": [
    "%pylab inline\n",
    "import scipy.optimize\n",
    "import time\n",
    "import matplotlib.pyplot as plt\n",
    "import numpy as np\n",
    "from sklearn.datasets import fetch_mldata\n",
    "from sklearn.metrics import accuracy_score"
   ]
  },
  {
   "cell_type": "markdown",
   "metadata": {},
   "source": [
    "## Data"
   ]
  },
  {
   "cell_type": "code",
   "execution_count": 73,
   "metadata": {
    "collapsed": false
   },
   "outputs": [
    {
     "name": "stdout",
     "output_type": "stream",
     "text": [
      "(array([[0, 0],\n",
      "       [0, 1],\n",
      "       [1, 0],\n",
      "       [1, 1]]), array([[0],\n",
      "       [0],\n",
      "       [0],\n",
      "       [1]]))\n",
      "(array([[0, 0],\n",
      "       [0, 1],\n",
      "       [1, 0],\n",
      "       [1, 1]]), array([[0],\n",
      "       [1],\n",
      "       [1],\n",
      "       [1]]))\n",
      "(array([[0, 0],\n",
      "       [0, 1],\n",
      "       [1, 0],\n",
      "       [1, 1]]), array([[0],\n",
      "       [1],\n",
      "       [1],\n",
      "       [0]]))\n"
     ]
    }
   ],
   "source": [
    "def data2numpy(D):\n",
    "    X = np.array([r[0] for r in D])\n",
    "    y = np.array([r[1] for r in D])\n",
    "    return X, y\n",
    "# [([data points], [targets])]\n",
    "data_AND = data2numpy([\n",
    "    ([0, 0], [0]), \n",
    "    ([0, 1], [0]),\n",
    "    ([1, 0], [0]),\n",
    "    ([1, 1], [1]),\n",
    "])\n",
    "\n",
    "data_OR = data2numpy([\n",
    "    ([0, 0], [0]), \n",
    "    ([0, 1], [1]),\n",
    "    ([1, 0], [1]),\n",
    "    ([1, 1], [1]),\n",
    "])\n",
    "\n",
    "data_XOR = data2numpy([\n",
    "    ([0, 0], [0]), \n",
    "    ([0, 1], [1]),\n",
    "    ([1, 0], [1]),\n",
    "    ([1, 1], [0]),\n",
    "])\n",
    "\n",
    "print(data_AND)\n",
    "print(data_OR)\n",
    "print(data_XOR)"
   ]
  },
  {
   "cell_type": "markdown",
   "metadata": {},
   "source": [
    "## Network"
   ]
  },
  {
   "cell_type": "code",
   "execution_count": 87,
   "metadata": {
    "collapsed": false
   },
   "outputs": [
    {
     "name": "stdout",
     "output_type": "stream",
     "text": [
      "(9,)\n",
      "[[  4.10499947e-47]\n",
      " [  4.45904396e-20]\n",
      " [  4.15919161e-20]\n",
      " [  1.00000000e+00]]\n",
      "\n",
      "(9,)\n",
      "[[  1.49165248e-25]\n",
      " [  1.00000000e+00]\n",
      " [  1.00000000e+00]\n",
      " [  1.00000000e+00]]\n",
      "\n",
      "(9,)\n",
      "[[  7.23586414e-12]\n",
      " [  1.00000000e+00]\n",
      " [  5.00000004e-01]\n",
      " [  5.00000004e-01]]\n",
      "\n"
     ]
    }
   ],
   "source": [
    "class sigmoid:\n",
    "    def f(z):\n",
    "        return 1 / (1 + np.exp(-z))\n",
    "    \n",
    "    def df(z):\n",
    "        s = sigmoid.f(z)\n",
    "        return s * (1 - s)\n",
    "\n",
    "class identity:\n",
    "    def f(z):\n",
    "        return z\n",
    "    \n",
    "    def df(z):\n",
    "        return 1\n",
    "\n",
    "class FFNN():\n",
    "    def __init__(self, layers_dims=[], activation_functions=[], regularization=0.0001):\n",
    "        self.layers_dims = layers_dims\n",
    "        self.activation_functions = [None] + activation_functions\n",
    "        weights_size = 0\n",
    "        for i in range(1, len(self.layers_dims)):\n",
    "            weights_size += self.layers_dims[i-1] * self.layers_dims[i]\n",
    "        self.b_size = sum(layers_dims[1:])\n",
    "        self.weights = np.random.rand(self.b_size + weights_size) * 0.1\n",
    "        print(self.weights.shape)\n",
    "        self.training_iterations = 0\n",
    "        self.lambd = regularization\n",
    "    \n",
    "    def next_iteration(self, weights):\n",
    "        self.training_iterations += 1\n",
    "#         print(\"Iteration:\", self.training_iterations)\n",
    "    \n",
    "    def cost(self, weights, X, y):\n",
    "        nl = len(self.layers_dims) - 1\n",
    "        deltas = [None for i in range(nl + 1)]\n",
    "        \n",
    "        self.weights = weights\n",
    "        self.forward_pass(X, store_results=True)\n",
    "        a = self.a\n",
    "        z = self.z\n",
    "        B, W = self.unfold_weights(weights)\n",
    "        deltas[nl] = -(y - a[nl]) * self.activation_functions[nl].df(z[nl])\n",
    "        # deltas\n",
    "        for l in range(nl, 1, -1):\n",
    "            deltas[l-1] = deltas[l].dot(W[l]) * self.activation_functions[l-1].df(z[l-1])\n",
    "        weights_derivatives = []\n",
    "        b_derivatives = []\n",
    "        \n",
    "        # derivatives\n",
    "        for l in range(1, nl+1):\n",
    "            dW = deltas[l].T.dot(a[l-1])\n",
    "            weights_derivatives.append(dW.flatten())\n",
    "            b_derivatives.append(deltas[l].sum(axis=0).flatten())\n",
    "        cost = ((y - a[nl]) ** 2).mean()  # + self.lambd * (weights ** 2).sum()\n",
    "        gradient = np.hstack(b_derivatives + weights_derivatives)\n",
    "\n",
    "        assert gradient.shape == weights.shape\n",
    "        return cost, gradient\n",
    "    \n",
    "    def unfold_weights(self, weights):\n",
    "        used_count = self.b_size\n",
    "        used_bcount = 0\n",
    "        W = [None]\n",
    "        B = [None]\n",
    "        for i in range(1, len(self.layers_dims)):\n",
    "            m, n = self.layers_dims[i], self.layers_dims[i-1]\n",
    "            w = self.weights[used_count:used_count + (m * n)]\n",
    "            w = w.reshape((m, n))\n",
    "            b = self.weights[used_bcount:used_bcount + m]\n",
    "            W.append(w)\n",
    "            B.append(b)\n",
    "            used_count += m * n\n",
    "            used_bcount += m\n",
    "        return B, W\n",
    "            \n",
    "    def forward_pass(self, X, store_results=False):\n",
    "        used_count = self.b_size\n",
    "        used_bcount = 0\n",
    "        Xl = X\n",
    "        B, W = self.unfold_weights(self.weights)\n",
    "        if store_results:\n",
    "            self.a = [X]\n",
    "            self.z = [X]\n",
    "        for i in range(1, len(self.layers_dims)):\n",
    "            zl = Xl.dot(W[i].T) + B[i]\n",
    "            Xl = self.activation_functions[i].f(zl)\n",
    "            if store_results:\n",
    "                self.z.append(zl)\n",
    "                self.a.append(Xl)\n",
    "        return Xl \n",
    "    \n",
    "    def fit(self, X, y):\n",
    "        res = scipy.optimize.minimize(\n",
    "            fun=self.cost,\n",
    "            x0=self.weights,\n",
    "            args=(X, y),\n",
    "            method='L-BFGS-B',\n",
    "            jac=True,\n",
    "            tol=1e-30,\n",
    "            options={'maxiter': 100, 'disp': True},\n",
    "            callback=self.next_iteration,\n",
    "        )\n",
    "        self.weights = res.x\n",
    "\n",
    "\n",
    "for X, y in [data_AND, data_OR, data_XOR]:    \n",
    "# for X, y in [data_XOR]:        \n",
    "\n",
    "    nn = FFNN([2, 2, 1], [sigmoid, sigmoid, sigmoid])\n",
    "#     nn = FFNN([2, 4, 1], [identity, identity, identity])\n",
    "#     print(nn.cost(nn.weights, X, y))\n",
    "    nn.fit(X, y)\n",
    "    print(nn.forward_pass(X))\n",
    "#     print(nn.cost(nn.weights, X, y))\n",
    "    print()"
   ]
  },
  {
   "cell_type": "code",
   "execution_count": 4,
   "metadata": {
    "collapsed": false
   },
   "outputs": [
    {
     "data": {
      "text/plain": [
       "'0.16.0'"
      ]
     },
     "execution_count": 4,
     "metadata": {},
     "output_type": "execute_result"
    }
   ],
   "source": [
    "import scipy as sp\n",
    "sp.__version__"
   ]
  }
 ],
 "metadata": {
  "kernelspec": {
   "display_name": "Python 3",
   "language": "python",
   "name": "python3"
  },
  "language_info": {
   "codemirror_mode": {
    "name": "ipython",
    "version": 3
   },
   "file_extension": ".py",
   "mimetype": "text/x-python",
   "name": "python",
   "nbconvert_exporter": "python",
   "pygments_lexer": "ipython3",
   "version": "3.4.0"
  }
 },
 "nbformat": 4,
 "nbformat_minor": 0
}
