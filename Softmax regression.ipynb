{
 "cells": [
  {
   "cell_type": "code",
   "execution_count": 1,
   "metadata": {
    "collapsed": false
   },
   "outputs": [
    {
     "name": "stdout",
     "output_type": "stream",
     "text": [
      "Populating the interactive namespace from numpy and matplotlib\n"
     ]
    }
   ],
   "source": [
    "%pylab inline\n",
    "import scipy.optimize\n",
    "import time\n",
    "import matplotlib.pyplot as plt\n",
    "import numpy as np\n",
    "from sklearn.datasets import fetch_mldata\n",
    "from sklearn.metrics import accuracy_score\n",
    "from sklearn import preprocessing"
   ]
  },
  {
   "cell_type": "code",
   "execution_count": 38,
   "metadata": {
    "collapsed": false
   },
   "outputs": [],
   "source": [
    "import theano\n",
    "from theano import tensor as T\n",
    "from lasagne.updates import sgd, apply_momentum, nesterov_momentum, adagrad, adadelta"
   ]
  },
  {
   "cell_type": "code",
   "execution_count": 3,
   "metadata": {
    "collapsed": true
   },
   "outputs": [],
   "source": [
    "mnist = fetch_mldata('MNIST original', data_home='./data')\n",
    "y_all = mnist.target[:, np.newaxis]\n",
    "intercept = np.ones_like(y_all)\n",
    "data = np.hstack([intercept, mnist.data, y_all])\n",
    "np.random.shuffle(data)"
   ]
  },
  {
   "cell_type": "code",
   "execution_count": 4,
   "metadata": {
    "collapsed": true
   },
   "outputs": [],
   "source": [
    "def normalize_features(train, test):\n",
    "    \"\"\"Normalizes train set features to a standard normal distribution\n",
    "    (zero mean and unit variance). The same procedure is then applied\n",
    "    to the test set features.\n",
    "    \"\"\"\n",
    "    train_mean = train.mean(axis=0)\n",
    "    # +0.1 to avoid division by zero in this specific case\n",
    "    train_std = train.std(axis=0) + 0.1\n",
    "    \n",
    "    train = (train - train_mean) / train_std\n",
    "    test = (test - train_mean) / train_std\n",
    "    return train, test"
   ]
  },
  {
   "cell_type": "code",
   "execution_count": 5,
   "metadata": {
    "collapsed": true
   },
   "outputs": [],
   "source": [
    "train_data_count = 60000\n",
    "Xt = data[:train_data_count, :-1]\n",
    "yt = data[:train_data_count, -1:].astype(int)\n",
    "\n",
    "\n",
    "Xv = data[train_data_count:, :-1]\n",
    "yv = data[train_data_count:, -1:].astype(int)\n",
    "\n",
    "Xt, Xv = normalize_features(Xt, Xv)"
   ]
  },
  {
   "cell_type": "code",
   "execution_count": 9,
   "metadata": {
    "collapsed": true
   },
   "outputs": [],
   "source": [
    "binarizer = preprocessing.LabelBinarizer()\n",
    "binarizer.fit(yt)\n",
    "ytb = binarizer.transform(yt)"
   ]
  },
  {
   "cell_type": "code",
   "execution_count": 46,
   "metadata": {
    "collapsed": true
   },
   "outputs": [],
   "source": [
    "def floatX(X):\n",
    "    return np.asarray(X, dtype=theano.config.floatX)\n",
    "\n",
    "def init_weights(shape, m=0.01):\n",
    "    w = np.random.rand(*shape) * m\n",
    "    return theano.shared(floatX(w))"
   ]
  },
  {
   "cell_type": "code",
   "execution_count": 99,
   "metadata": {
    "collapsed": false
   },
   "outputs": [],
   "source": [
    "X = T.fmatrix()\n",
    "Y = T.fmatrix()\n",
    "\n",
    "w = init_weights((Xt.shape[1], 10))\n",
    "b = init_weights((10,), m=0.01)\n",
    "\n",
    "# hwx = T.nnet.sigmoid(T.dot(X, w) + b)\n",
    "hwx = 1 / (1 + T.exp(-1 * (T.dot(X, w) + b)))\n",
    "# cost = T.mean(T.nnet.categorical_crossentropy(hwx, Y))\n",
    "cost = -T.mean(Y * T.log(hwx) + (1 - Y) * T.log(1-hwx))\n",
    "\n",
    "params = [w, b]\n",
    "\n",
    "# updates = sgd(cost, params, learning_rate=0.05)\n",
    "grad_w = T.grad(cost=cost, wrt=w)\n",
    "grad_b = T.grad(cost=cost, wrt=b)\n",
    "updates = [[w, w - grad_w * 0.05], [b, b - grad_b * 0.05]]\n",
    "\n",
    "\n",
    "predict = theano.function(inputs=[X], outputs=hwx, allow_input_downcast=True)\n",
    "train = theano.function(inputs=[X, Y], outputs=cost, updates=updates, allow_input_downcast=True)\n"
   ]
  },
  {
   "cell_type": "code",
   "execution_count": 100,
   "metadata": {
    "collapsed": false
   },
   "outputs": [
    {
     "name": "stdout",
     "output_type": "stream",
     "text": [
      "   0.7312605381011963\n",
      "0 Train acc 0.217816666667\n",
      "   0.7238372564315796\n",
      "   0.7168281078338623\n",
      "   0.7102088332176208\n",
      "   0.7039557695388794\n",
      "   0.6980456709861755\n",
      "   0.6924563646316528\n",
      "   0.6871663331985474\n",
      "   0.682155191898346\n",
      "   0.6774033904075623\n",
      "   0.6728926301002502\n",
      "10 Train acc 0.727533333333\n",
      "   0.6686056852340698\n",
      "   0.6645264029502869\n",
      "   0.660639762878418\n",
      "   0.6569317579269409\n",
      "   0.6533893942832947\n",
      "   0.6500007510185242\n",
      "   0.6467546820640564\n",
      "   0.6436408758163452\n",
      "   0.6406500339508057\n",
      "   0.6377733945846558\n",
      "20 Train acc 0.76265\n",
      "   0.6350029706954956\n",
      "   0.6323314309120178\n",
      "   0.6297519207000732\n",
      "   0.6272584199905396\n",
      "   0.6248450875282288\n",
      "   0.6225066781044006\n",
      "   0.6202384233474731\n",
      "   0.6180357336997986\n",
      "   0.6158946752548218\n",
      "   0.6138113737106323\n",
      "30 Train acc 0.77825\n",
      "   0.611782431602478\n",
      "   0.6098045110702515\n",
      "   0.6078747510910034\n",
      "   0.605990469455719\n",
      "   0.6041489839553833\n",
      "   0.6023480892181396\n",
      "   0.6005855202674866\n",
      "   0.5988593101501465\n",
      "   0.5971676111221313\n",
      "   0.5955086350440979\n",
      "40 Train acc 0.788966666667\n",
      "   0.593880832195282\n",
      "   0.5922826528549194\n",
      "   0.5907127261161804\n",
      "   0.5891698002815247\n",
      "   0.5876525044441223\n",
      "   0.5861598253250122\n",
      "   0.5846906900405884\n",
      "   0.5832441449165344\n",
      "   0.5818191170692444\n",
      "   0.580414891242981\n",
      "50 Train acc 0.796116666667\n",
      "   0.5790305137634277\n",
      "   0.5776652693748474\n",
      "   0.5763185024261475\n",
      "   0.574989378452301\n",
      "   0.5736773610115051\n",
      "   0.572381854057312\n",
      "   0.5711022019386292\n",
      "   0.5698379278182983\n",
      "   0.5685884356498718\n",
      "   0.567353367805481\n",
      "60 Train acc 0.802283333333\n",
      "   0.566132128238678\n",
      "   0.5649243593215942\n",
      "   0.5637296438217163\n",
      "   0.5625475645065308\n",
      "   0.5613778233528137\n",
      "   0.5602198839187622\n",
      "   0.5590735673904419\n",
      "   0.5579384565353394\n",
      "   0.5568143129348755\n",
      "   0.5557008385658264\n",
      "70 Train acc 0.8068\n",
      "   0.5545976758003235\n",
      "   0.5535045862197876\n",
      "   0.5524213314056396\n",
      "   0.5513476133346558\n",
      "   0.5502833127975464\n",
      "   0.5492280721664429\n",
      "   0.5481817722320557\n",
      "   0.5471441149711609\n",
      "   0.546114981174469\n",
      "   0.5450940728187561\n",
      "80 Train acc 0.810766666667\n",
      "   0.5440812706947327\n",
      "   0.5430763959884644\n",
      "   0.5420792698860168\n",
      "   0.5410897135734558\n",
      "   0.5401076674461365\n",
      "   0.539132833480835\n",
      "   0.5381650924682617\n",
      "   0.5372043251991272\n",
      "   0.5362504124641418\n",
      "   0.5353032350540161\n",
      "90 Train acc 0.814183333333\n",
      "   0.5343625545501709\n",
      "   0.5334283709526062\n",
      "   0.5325005054473877\n",
      "   0.5315788984298706\n",
      "   0.5306633114814758\n",
      "   0.5297536849975586\n",
      "   0.5288499593734741\n",
      "   0.5279520750045776\n",
      "   0.5270597338676453\n"
     ]
    }
   ],
   "source": [
    "\n",
    "for i in range(100):\n",
    "    print(\"  \", train(Xt, ytb))\n",
    "    if i % 10 == 0:\n",
    "        ytp = binarizer.inverse_transform(predict(Xt))\n",
    "        print(i, 'Train acc', accuracy_score(yt, ytp))"
   ]
  },
  {
   "cell_type": "code",
   "execution_count": 101,
   "metadata": {
    "collapsed": false
   },
   "outputs": [
    {
     "name": "stdout",
     "output_type": "stream",
     "text": [
      "Train acc 0.816416666667\n",
      "Valid acc 0.813\n"
     ]
    }
   ],
   "source": [
    "ytp = binarizer.inverse_transform(predict(Xt))\n",
    "print('Train acc', accuracy_score(yt, ytp))\n",
    "yvp = binarizer.inverse_transform(predict(Xv))\n",
    "print('Valid acc', accuracy_score(yv, yvp))"
   ]
  }
 ],
 "metadata": {
  "kernelspec": {
   "display_name": "Python 3",
   "language": "python",
   "name": "python3"
  },
  "language_info": {
   "codemirror_mode": {
    "name": "ipython",
    "version": 3
   },
   "file_extension": ".py",
   "mimetype": "text/x-python",
   "name": "python",
   "nbconvert_exporter": "python",
   "pygments_lexer": "ipython3",
   "version": "3.4.0"
  }
 },
 "nbformat": 4,
 "nbformat_minor": 0
}
